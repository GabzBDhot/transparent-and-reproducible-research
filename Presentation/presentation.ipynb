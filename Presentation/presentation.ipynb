{
 "cells": [
  {
   "cell_type": "markdown",
   "metadata": {
    "slideshow": {
     "slide_type": "slide"
    }
   },
   "source": [
    "# Dynamic Documents with Jupyter Notebooks "
   ]
  },
  {
   "cell_type": "markdown",
   "metadata": {
    "slideshow": {
     "slide_type": "slide"
    }
   },
   "source": [
    "## Before We Begin\n",
    "\n",
    "- Special thanks to Oscar Barriga Cabanillas for helping out today\n",
    "- Thank you for BITSS for organizing \n",
    "- How has it been so far?\n",
    "- A Question: \n",
    "    - How familiar are you with python? Jupyter?\n",
    "    - What are you thinking of getting out of this talk?\n",
    "    "
   ]
  },
  {
   "cell_type": "markdown",
   "metadata": {
    "slideshow": {
     "slide_type": "slide"
    }
   },
   "source": [
    "## How to watch this presentation:\n",
    "- Either:\n",
    "    - `git clone` the repository\n",
    "    - Start up jupyter lab\n",
    "    - open `presentation.ipynb`\n",
    "    - follow along\n",
    "- Or:\n",
    "    - Go to the repository and press the `Launch Binder` Button\n",
    "    - To be explained later.\n",
    "    "
   ]
  },
  {
   "cell_type": "markdown",
   "metadata": {
    "slideshow": {
     "slide_type": "slide"
    }
   },
   "source": [
    "## Why Dynamic Documents?\n",
    "\n",
    "Dynamic Documents are a part of the bigger picture of Reproducible Science. Sure, there is a fixed cost; **BUT**, they make my life easier in these ways:\n",
    "\n",
    "- Short term: Easier to document fresh out of the oven results\n",
    "- Medium term: Fast, reliable and tractable new results\n",
    "- Long term: You can see how everything was created\n"
   ]
  },
  {
   "cell_type": "markdown",
   "metadata": {
    "slideshow": {
     "slide_type": "slide"
    }
   },
   "source": [
    "## What are Dynamic Documents?\n",
    "\n",
    "Based on principles of literate programming, we aim at combining code and paper in one single document\n",
    "\n",
    "- Best framework to achieve the holy grail of one-click reproducible workflow\n",
    "- Best two current implementations: RMarkdown (R) & Jupyter (Python).\n",
    "- Stata is catching up: We will come back to this in a second\n"
   ]
  },
  {
   "cell_type": "markdown",
   "metadata": {
    "slideshow": {
     "slide_type": "slide"
    }
   },
   "source": [
    "## The State of Things Now\n",
    "\n",
    "Currently, the code and the narrative components live in separate universes\n",
    "\n",
    "<img src=\"figures/flow_3.png\" width=\"1000\">\n"
   ]
  },
  {
   "cell_type": "markdown",
   "metadata": {
    "slideshow": {
     "slide_type": "slide"
    }
   },
   "source": [
    "## Part of Larger Workflow\n",
    "\n",
    "- Dynamic documents are best used as part of a larger organized workflow\n",
    "    - Structuring folders: Data, analysis, output\n",
    "    - Documenting code\n",
    "    - Combining both into a final document: Pre analysis or final paper\n"
   ]
  },
  {
   "cell_type": "markdown",
   "metadata": {},
   "source": [
    "## Markdown's Entrance\n",
    "\n",
    "- In terms of writing the \"paper\"/documentation part of dynamic documents, there are many solutions\n",
    "    - Latex, HTML, RST (ReStructured Text)\n",
    "- But most have honed in on using Markdown\n",
    "    - Markdown is an easy way to write formatted text in a plain text format\n",
    "    - But without as verbose and difficult of a syntax like latex/HTML\n",
    "- Although basic markdown has the basics for formatting, creating tables, adding figures\n",
    "- We will use Pandoc, which is used in both the Stata and R sessions"
   ]
  },
  {
   "cell_type": "markdown",
   "metadata": {},
   "source": [
    "## Markdown Cheatsheet\n",
    "\n",
    "There are loads of markdown cheatsheats on the web. One can be found [here](https://www.markdownguide.org/cheat-sheet/)"
   ]
  },
  {
   "cell_type": "markdown",
   "metadata": {},
   "source": [
    "## What is Pandoc?\n",
    "\n",
    "- Pandoc is sort of what it says: pan (all), doc (document)\n",
    "- It's a way to convert between and across different file formats\n",
    "    - Word -> HTML\n",
    "    - Latex -> Markdown\n",
    "    - HTML -> XML\n",
    "    - Anything to anything\n",
    "- See Pandoc's [website](https://pandoc.org/MANUAL.html#options) for all input and output filetypes"
   ]
  },
  {
   "cell_type": "markdown",
   "metadata": {},
   "source": [
    "## The Magic of Pandoc\n",
    "\n",
    "- Pandoc and Markdown allows you to create one file that can then be used in many different places\n",
    "- Example:\n",
    "    - You're writing your CV and want to put it up in various places.\n",
    "    - Your website needs HTML\n",
    "    - One job posting allows PDF\n",
    "    - One job posting only allows Word\n",
    "- Ordinarily, you would need to have three versions, Word, HTML, PDF\n",
    "    - This might get unruly as you change one but forget to change the other\n",
    "    - What if there's another file format you might need?\n",
    "- With Pandoc and markdown, you would:\n",
    "    - write your CV in markdown\n",
    "    - convert to PDF, Word and PDF with pandoc"
   ]
  },
  {
   "cell_type": "markdown",
   "metadata": {
    "slideshow": {
     "slide_type": "slide"
    }
   },
   "source": [
    "## What are Jupyter Notebooks?\n",
    "\n",
    "- A way to do literate programming and dynamic documents \n",
    "- Provide code and writing/analysis, on a language agnostic platform\n",
    "    - Meaning that it is not restricted to just one language\n",
    "    - Currently there are so-called kernels for many languages\n",
    "    - Including Stata, Python, R, C, Golang, C++, Fortran and more coming!\n",
    "- Uses the power of Markdown/Latex Math and Code to tell a story and provide an efficient workflow\n",
    "- Convert into several different formats including Latex, HTML, Presentations etc...\n",
    "- The Jupyter server is also available in other text editors such as Atom and VS Code.\n",
    "- And now available in STATA!"
   ]
  },
  {
   "cell_type": "markdown",
   "metadata": {
    "slideshow": {
     "slide_type": "subslide"
    }
   },
   "source": [
    "## Under the Hood\n",
    "\n",
    "- You can think of Jupyter as broadly being made up of two parts:\n",
    "    - A JSON document that organizes text between markdown, code, figures, widgets, etc...\n",
    "    - A server that loads a \"kernel\" with a particular language and knows how to translate the markdown to formatted text and the code to execution\n",
    "    - A web interface (although not required) \n",
    "\n",
    "<img src=\"figures/DeepinScreenshot_select-area_20190107171714.png\" width=600>\n",
    "\n"
   ]
  },
  {
   "cell_type": "markdown",
   "metadata": {},
   "source": [
    "## Why Jupyter Notebooks?\n",
    "\n",
    "- Jupyter is ubiquitous\n",
    "- Jupyter is used by basically all of the data science community\n",
    "- Jupyter is used by other software (VS Code, Atom/Hydrogen)\n",
    "- Since Jupyter is a JSON document and built using web tools, anything that uses webtools can use it \n",
    "- Science and publishing is changing (PDFs are becoming old, open access and web journals are becoming more popular)\n",
    "    - Present results in a dynamic way\n",
    "    - Interactive\n",
    "    - More efficient to show quick interactive widget to experiment with colleagues/advisors than 50 figures in a static PDF"
   ]
  },
  {
   "cell_type": "markdown",
   "metadata": {
    "tags": [
     "remove-input"
    ]
   },
   "source": [
    "## Extensions\n",
    "\n",
    "JupyterLab (the web interface) comes with many extensions for anything you might want:\n",
    "\n",
    "- A language server\n",
    "- multicursor support \n",
    "- git integration\n",
    "- and more..."
   ]
  },
  {
   "cell_type": "markdown",
   "metadata": {
    "slideshow": {
     "slide_type": "slide"
    }
   },
   "source": [
    "## Running Code"
   ]
  },
  {
   "cell_type": "code",
   "execution_count": 3,
   "metadata": {
    "ExecuteTime": {
     "end_time": "2019-01-09T16:28:51.503822Z",
     "start_time": "2019-01-09T16:28:51.460436Z"
    },
    "slideshow": {
     "slide_type": "-"
    },
    "tags": [
     "hide-input",
     "remove-input"
    ]
   },
   "outputs": [
    {
     "data": {
      "text/html": [
       "<div>\n",
       "<style scoped>\n",
       "    .dataframe tbody tr th:only-of-type {\n",
       "        vertical-align: middle;\n",
       "    }\n",
       "\n",
       "    .dataframe tbody tr th {\n",
       "        vertical-align: top;\n",
       "    }\n",
       "\n",
       "    .dataframe thead th {\n",
       "        text-align: right;\n",
       "    }\n",
       "</style>\n",
       "<table border=\"1\" class=\"dataframe\">\n",
       "  <thead>\n",
       "    <tr style=\"text-align: right;\">\n",
       "      <th></th>\n",
       "      <th>income</th>\n",
       "    </tr>\n",
       "    <tr>\n",
       "      <th>hhid</th>\n",
       "      <th></th>\n",
       "    </tr>\n",
       "  </thead>\n",
       "  <tbody>\n",
       "    <tr>\n",
       "      <th>0</th>\n",
       "      <td>2</td>\n",
       "    </tr>\n",
       "    <tr>\n",
       "      <th>1</th>\n",
       "      <td>6</td>\n",
       "    </tr>\n",
       "    <tr>\n",
       "      <th>2</th>\n",
       "      <td>2</td>\n",
       "    </tr>\n",
       "    <tr>\n",
       "      <th>3</th>\n",
       "      <td>7</td>\n",
       "    </tr>\n",
       "    <tr>\n",
       "      <th>4</th>\n",
       "      <td>8</td>\n",
       "    </tr>\n",
       "  </tbody>\n",
       "</table>\n",
       "</div>"
      ],
      "text/plain": [
       "      income\n",
       "hhid        \n",
       "0          2\n",
       "1          6\n",
       "2          2\n",
       "3          7\n",
       "4          8"
      ]
     },
     "execution_count": 3,
     "metadata": {},
     "output_type": "execute_result"
    }
   ],
   "source": [
    "import pandas as pd\n",
    "\n",
    "df = pd.DataFrame({'hhid' : range(5), 'income' : [2,6,2,7,8]})\n",
    "\n",
    "df.groupby('hhid').mean()"
   ]
  },
  {
   "cell_type": "markdown",
   "metadata": {
    "slideshow": {
     "slide_type": "slide"
    }
   },
   "source": [
    "## Kernel Magics\n",
    "\n",
    "- Many Jupyter kernels have something called magics\n",
    "    - A way to make certain actions easy without having to write too much code\n",
    "    - Often language specific\n",
    "        - A few examples from python:\n",
    "            - support for command line with `!`\n",
    "            - `conda` installing with `%conda`\n",
    "            - Calling other languages, like Stata and R\n",
    "            - A full list can be found [here](https://ipython.readthedocs.io/en/stable/interactive/magics.html)"
   ]
  },
  {
   "cell_type": "markdown",
   "metadata": {},
   "source": [
    "## An Example with `%conda`\n",
    "\n",
    "- Suppose you want to install a package into python\n",
    "- you can use the `%conda` for a conda environment or `%pip` for a regular Python installation"
   ]
  },
  {
   "cell_type": "code",
   "execution_count": 6,
   "metadata": {},
   "outputs": [
    {
     "name": "stdout",
     "output_type": "stream",
     "text": [
      "Defaulting to user installation because normal site-packages is not writeable\n",
      "Requirement already satisfied: seaborn in /usr/lib/python3.8/site-packages (0.10.1)\n",
      "Requirement already satisfied: numpy>=1.13.3 in /usr/lib/python3.8/site-packages (from seaborn) (1.19.1)\n",
      "Requirement already satisfied: scipy>=1.0.1 in /usr/lib/python3.8/site-packages (from seaborn) (1.5.2)\n",
      "Requirement already satisfied: pandas>=0.22.0 in /usr/lib/python3.8/site-packages (from seaborn) (1.1.1)\n",
      "Requirement already satisfied: matplotlib>=2.1.2 in /usr/lib/python3.8/site-packages (from seaborn) (3.3.1)\n",
      "Requirement already satisfied: python-dateutil>=2.7.3 in /usr/lib/python3.8/site-packages (from pandas>=0.22.0->seaborn) (2.8.1)\n",
      "Requirement already satisfied: pytz>=2017.2 in /usr/lib/python3.8/site-packages (from pandas>=0.22.0->seaborn) (2020.1)\n",
      "Collecting certifi>=2020.06.20\n",
      "  Downloading certifi-2020.6.20-py2.py3-none-any.whl (156 kB)\n",
      "\u001b[K     |████████████████████████████████| 156 kB 2.1 MB/s eta 0:00:01\n",
      "\u001b[?25hRequirement already satisfied: cycler>=0.10 in /usr/lib/python3.8/site-packages (from matplotlib>=2.1.2->seaborn) (0.10.0)\n",
      "Requirement already satisfied: kiwisolver>=1.0.1 in /usr/lib/python3.8/site-packages (from matplotlib>=2.1.2->seaborn) (1.2.0)\n",
      "Requirement already satisfied: pillow>=6.2.0 in /usr/lib/python3.8/site-packages (from matplotlib>=2.1.2->seaborn) (7.2.0)\n",
      "Requirement already satisfied: pyparsing!=2.0.4,!=2.1.2,!=2.1.6,>=2.0.3 in /usr/lib/python3.8/site-packages (from matplotlib>=2.1.2->seaborn) (2.4.7)\n",
      "Requirement already satisfied: six>=1.5 in /usr/lib/python3.8/site-packages (from python-dateutil>=2.7.3->pandas>=0.22.0->seaborn) (1.15.0)\n",
      "Installing collected packages: certifi\n",
      "Successfully installed certifi-2020.6.20\n",
      "Note: you may need to restart the kernel to use updated packages.\n"
     ]
    }
   ],
   "source": [
    "%pip install seaborn"
   ]
  },
  {
   "cell_type": "markdown",
   "metadata": {},
   "source": [
    "## Figures"
   ]
  },
  {
   "cell_type": "code",
   "execution_count": 4,
   "metadata": {
    "ExecuteTime": {
     "end_time": "2019-01-09T16:28:56.289091Z",
     "start_time": "2019-01-09T16:28:55.955454Z"
    },
    "ipub": {
     "figure": {
      "caption": "A plot",
      "height": 0.4,
      "label": "fig:flabel",
      "placement": "H",
      "widefigure": false
     }
    },
    "slideshow": {
     "slide_type": "subslide"
    },
    "tags": [
     "remove-input"
    ]
   },
   "outputs": [
    {
     "data": {
      "text/plain": [
       "[<matplotlib.lines.Line2D at 0x7f32ea17c6d0>]"
      ]
     },
     "execution_count": 4,
     "metadata": {},
     "output_type": "execute_result"
    },
    {
     "data": {
      "image/png": "[encoded data removed]",
      "text/plain": [
       "<Figure size 432x288 with 1 Axes>"
      ]
     },
     "metadata": {
      "needs_background": "light"
     },
     "output_type": "display_data"
    }
   ],
   "source": [
    "import matplotlib.pyplot as plt\n",
    "\n",
    "plt.plot([1,2]);"
   ]
  },
  {
   "cell_type": "markdown",
   "metadata": {
    "slideshow": {
     "slide_type": "slide"
    }
   },
   "source": [
    "## Exporting"
   ]
  },
  {
   "cell_type": "markdown",
   "metadata": {
    "ExecuteTime": {
     "end_time": "2019-01-08T00:26:56.799979Z",
     "start_time": "2019-01-08T00:26:56.778190Z"
    },
    "lang": "en",
    "slideshow": {
     "slide_type": "subslide"
    }
   },
   "source": [
    "- Exporting to HTML, PDF and slides is possible through the menu: File -> Export Notebook as -> PDF"
   ]
  },
  {
   "cell_type": "markdown",
   "metadata": {},
   "source": [
    "## Extras\n",
    "\n",
    "- Now that we have the basics down, let's take a few minutes for a break, as well as to ask questions\n",
    "- When we come back, we'll talk about some advanced techniques:\n",
    "    - Interactive widgets using `ipywidgets`\n",
    "        - One step closer to dashboarding: `plotly`\n",
    "        - Super dashboarding: `dash`\n",
    "    - Using Jupyter notebooks in Binder and Github\n",
    "    - Port-forwarding and setting up Jupyter remotely\n",
    "    - "
   ]
  },
  {
   "cell_type": "markdown",
   "metadata": {},
   "source": [
    "## `ipywidgets` in Jupyter\n",
    "\n",
    "- `ipywidgets` provides an easy way to create interactive widgets (python only)\n",
    "- Example: Let's say you want to see how more noise in a linear model changes your regression line\n",
    "    - This involves creating some fake data with an increasing standard deviation, running a regression, plotting the results\n",
    "    - Ordinarily, in a static file, you have a PDF and maybe you have to get creative with plots you make, or show many plots to convey the information\n",
    "        - Or perhaps the plot has to be very \"busy\" and complex"
   ]
  },
  {
   "cell_type": "code",
   "execution_count": 47,
   "metadata": {
    "tags": [
     "hide-input",
     "remove-input"
    ]
   },
   "outputs": [
    {
     "data": {
      "text/plain": [
       "<AxesSubplot:xlabel='X', ylabel='y'>"
      ]
     },
     "execution_count": 47,
     "metadata": {},
     "output_type": "execute_result"
    },
    {
     "data": {
      "image/png": "[encoded data removed]",
      "text/plain": [
       "<Figure size 432x288 with 1 Axes>"
      ]
     },
     "metadata": {
      "needs_background": "light"
     },
     "output_type": "display_data"
    }
   ],
   "source": [
    "from ipywidgets import interact\n",
    "import pandas as pd\n",
    "import seaborn as sns\n",
    "import numpy as np\n",
    "\n",
    "N=100\n",
    "sigma=2\n",
    "\n",
    "df = pd.DataFrame({'eps' : np.random.normal(0, sigma,N),\n",
    "                  'X' : np.random.normal(0,1,N)})\n",
    "\n",
    "df_ready = df.assign(y = lambda df: 3*df['X'] + df['eps'])\n",
    "\n",
    "# Get some data\n",
    "sns.regplot(x = 'X', y = 'y', data = df_ready);"
   ]
  },
  {
   "cell_type": "markdown",
   "metadata": {},
   "source": [
    "## GREAT!\n",
    "\n",
    "-  But what if we wanted to see how things changed if we increased $\\sigma$? or if we increased $N$?\n",
    "- We can try making a plot for every possibility:"
   ]
  },
  {
   "cell_type": "code",
   "execution_count": 45,
   "metadata": {
    "tags": [
     "hide-input",
     "remove-input"
    ]
   },
   "outputs": [
    {
     "data": {
      "image/png": "[encoded data removed]",
      "text/plain": [
       "<Figure size 432x288 with 1 Axes>"
      ]
     },
     "metadata": {
      "needs_background": "light"
     },
     "output_type": "display_data"
    },
    {
     "data": {
      "image/png": "[encoded data removed]",
      "text/plain": [
       "<Figure size 432x288 with 1 Axes>"
      ]
     },
     "metadata": {
      "needs_background": "light"
     },
     "output_type": "display_data"
    },
    {
     "data": {
      "image/png": "[encoded data removed]",
      "text/plain": [
       "<Figure size 432x288 with 1 Axes>"
      ]
     },
     "metadata": {
      "needs_background": "light"
     },
     "output_type": "display_data"
    }
   ],
   "source": [
    "import matplotlib.pyplot as plt\n",
    "\n",
    "for i in np.linspace(1,10,3):\n",
    "    plt.figure()\n",
    "    rng = np.random.default_rng(1)\n",
    "    df = pd.DataFrame({'eps' : rng.normal(0, i,N),\n",
    "                  'X' : rng.normal(0,1,N)})\n",
    "\n",
    "    df_ready = df.assign(y = lambda df: 3*df['X'] + df['eps'])\n",
    "    \n",
    "    sns.regplot(x = 'X', y = 'y', data = df_ready)"
   ]
  },
  {
   "cell_type": "markdown",
   "metadata": {},
   "source": [
    "## Or...\n",
    "\n",
    "- We can make it interact..."
   ]
  },
  {
   "cell_type": "code",
   "execution_count": 51,
   "metadata": {
    "tags": [
     "hide-input",
     "remove-input"
    ]
   },
   "outputs": [
    {
     "data": {
      "application/vnd.jupyter.widget-view+json": {
       "model_id": "9db798b9dd674e259c0fd7f604ef4e7b",
       "version_major": 2,
       "version_minor": 0
      },
      "text/plain": [
       "interactive(children=(IntSlider(value=10, description='sigma', max=20, min=1), IntSlider(value=401, descriptio…"
      ]
     },
     "metadata": {},
     "output_type": "display_data"
    }
   ],
   "source": [
    "@interact(sigma = (1,20,1), N=(1,1000,100))\n",
    "def r_plot(sigma, N):\n",
    "    \n",
    "    rng = np.random.default_rng(1)\n",
    "    plt.figure()\n",
    "    rng = np.random.default_rng(1)\n",
    "    df = pd.DataFrame({'eps' : rng.normal(0, sigma,N),\n",
    "                  'X' : rng.normal(0,1,N)})\n",
    "\n",
    "    df_ready = df.assign(y = lambda df: 3*df['X'] + df['eps'])\n",
    "    \n",
    "    sns.regplot(x = 'X', y = 'y', data = df_ready)"
   ]
  },
  {
   "cell_type": "markdown",
   "metadata": {},
   "source": [
    "## Adding More Interaction\n",
    "\n",
    "- We can also interactivity to our plots, themselves with `plotly`"
   ]
  },
  {
   "cell_type": "code",
   "execution_count": 55,
   "metadata": {
    "tags": [
     "hide-input",
     "remove-input"
    ]
   },
   "outputs": [
    {
     "data": {
      "application/vnd.jupyter.widget-view+json": {
       "model_id": "4eeb62455d024cec9cb4fab3ac50e165",
       "version_major": 2,
       "version_minor": 0
      },
      "text/plain": [
       "interactive(children=(IntSlider(value=10, description='sigma', max=20, min=1), IntSlider(value=401, descriptio…"
      ]
     },
     "metadata": {},
     "output_type": "display_data"
    }
   ],
   "source": [
    "# Make interactive Plot\n",
    "@interact(sigma = (1,20,1), N=(1,1000,100))\n",
    "def r_plot(sigma, N):\n",
    "    \n",
    "    rng = np.random.default_rng(1)\n",
    "    plt.figure()\n",
    "    rng = np.random.default_rng(1)\n",
    "    df = pd.DataFrame({'eps' : rng.normal(0, sigma,N),\n",
    "                  'X' : rng.normal(0,1,N)})\n",
    "\n",
    "    df_ready = df.assign(y = lambda df: 3*df['X'] + df['eps'])\n",
    "    \n",
    "    fig= px.scatter(df_ready, x=\"X\", y=\"y\", trendline=\"ols\")\n",
    "    fig.show()"
   ]
  },
  {
   "cell_type": "markdown",
   "metadata": {},
   "source": [
    "## Creating a Dashboard \n",
    "\n",
    "- It doesn't end there, we can also develop whole dashboard for interactivity:\n",
    "\n",
    "https://mybinder.org/v2/gh/plotly/jupyter-dash/master?urlpath=tree/notebooks/getting_started.ipynb"
   ]
  },
  {
   "cell_type": "markdown",
   "metadata": {},
   "source": [
    "## Binder and Hosting Notebooks\n",
    "\n",
    "- Jupyter is great and all, but what if you advisor/boss doesn't have Jupyter installed?\n",
    "- What if they do, but they don't have all the dependencies needed for your cool dashboard?\n",
    "- That's where binder comes in\n",
    "- Binder uses `docker` to create a containerized version of your notebook with all dependencies installed and anyone can access it even if they don't have jupyter installed at all. \n",
    "- They just need a web browser\n",
    "- We've already seen how this works, either with the dashboard or with this very presentation!\n",
    "- All you need is a public github repository and notebook in that repository and that's it!\n",
    "- Waiting time for spinning up the notebook will vary\n",
    "- While it's spinning it up, any questions so far?"
   ]
  },
  {
   "cell_type": "markdown",
   "metadata": {
    "slideshow": {
     "slide_type": "slide"
    }
   },
   "source": [
    "## Port-forwarding and setting up Jupyter to work on a server\n",
    "\n",
    "- Many people might have servers in their universities/organizations that are more powerful than a laptop.\n",
    "- Jupyter allows the ability to run a notebook locally (on your laptop screen), but using the power of the server.\n",
    "    - This requires jupyter being installed on the server\n",
    "    - This isn't a difficult thing to do for a sysadmin, so it's worth finding out whether that's possible"
   ]
  },
  {
   "cell_type": "markdown",
   "metadata": {
    "slideshow": {
     "slide_type": "slide"
    }
   },
   "source": [
    "### Setting up jupyter on a server\n",
    "\n",
    "- The first thing you need to do is log on to the server and start a jupyter instance:\n",
    "\n",
    "`jupyter notebook --no-browser --port=8888`\n",
    "\n",
    "- This tells the server to start an instance of jupyter, without a browser (we won't need it, nor can a server open up a browser window), in port 8888 (this will be important later)\n",
    "- For Mac users, you can use `ssh` to finish the process. Just type:\n",
    "`ssh username@host -L 8888:localhost:8888`\n",
    "- Which will forward your computer 8888 port, to the server's 8888 port.\n",
    "\n",
    "- For Windows, ssh also exists, but you will need to enable it.\n",
    "    - head to Settings > Apps and click “Manage optional features” under Apps & features.\n",
    "    - Click Add a Feature, and find OpenSSH\n",
    "- Then use the same command as for Macs:\n",
    "`ssh username@host -L 8888:localhost:8888`\n",
    "\n",
    "- Then go to your browser:\n",
    "    - `localhost:8888` and you should be taken to a Jupyter page and prompted for a token. \n",
    "    - You can find this token in the window where you started Jupyter on the server\n",
    "        - Copy and paste this token into the prompt, and VOILA!\n",
    "- Now you have Jupyter running on your computer's browser window, but with the power of the server!\n"
   ]
  },
  {
   "cell_type": "markdown",
   "metadata": {
    "tags": [
     "remove-input"
    ]
   },
   "source": [
    "## Taking all this to Pure Text\n",
    "\n",
    "- One drawback of jupyter (besides dependencies) is the fact that you need to install all of this and use a browser \n",
    "- Not very good for version control\n",
    "- `Rmd` files (used with RMarkdown) are just markdown files with code cells.\n",
    "    - Great for version control\n",
    "    - Readble\n",
    "    - Easy to share and read in its raw form\n",
    "- Can we do this with Jupyter?\n",
    "    - Yes! with `jupytext`\n"
   ]
  },
  {
   "cell_type": "markdown",
   "metadata": {
    "tags": [
     "hide-input",
     "remove-input"
    ]
   },
   "source": [
    "## Other Extras not Covered\n",
    "\n",
    "- `jupyter-cache`\n",
    "- `codebraid`"
   ]
  }
 ],
 "metadata": {
  "hide_input": true,
  "jupytext": {
   "formats": "ipynb,md:myst"
  },
  "kernelspec": {
   "display_name": "Python 3",
   "language": "python",
   "name": "python3"
  },
  "language_info": {
   "codemirror_mode": {
    "name": "ipython",
    "version": 3
   },
   "file_extension": ".py",
   "mimetype": "text/x-python",
   "name": "python",
   "nbconvert_exporter": "python",
   "pygments_lexer": "ipython3",
   "version": "3.8.5"
  },
  "latex_envs": {
   "LaTeX_envs_menu_present": true,
   "autoclose": false,
   "autocomplete": true,
   "bibliofile": "example.bib",
   "cite_by": "apalike",
   "current_citInitial": 1,
   "eqLabelWithNumbers": true,
   "eqNumInitial": 1,
   "hotkeys": {
    "equation": "Ctrl-E",
    "itemize": "Ctrl-I"
   },
   "labels_anchors": false,
   "latex_user_defs": false,
   "report_style_numbering": false,
   "user_envs_cfg": false
  },
  "nbTranslate": {
   "displayLangs": [
    "en"
   ],
   "hotkey": "alt-t",
   "langInMainMenu": true,
   "sourceLang": "en",
   "targetLang": "fr",
   "useGoogleTranslate": true
  },
  "varInspector": {
   "cols": {
    "lenName": 16,
    "lenType": 16,
    "lenVar": 40
   },
   "kernels_config": {
    "python": {
     "delete_cmd_postfix": "",
     "delete_cmd_prefix": "del ",
     "library": "var_list.py",
     "varRefreshCmd": "print(var_dic_list())"
    },
    "r": {
     "delete_cmd_postfix": ") ",
     "delete_cmd_prefix": "rm(",
     "library": "var_list.r",
     "varRefreshCmd": "cat(var_dic_list()) "
    }
   },
   "types_to_exclude": [
    "module",
    "function",
    "builtin_function_or_method",
    "instance",
    "_Feature"
   ],
   "window_display": false
  }
 },
 "nbformat": 4,
 "nbformat_minor": 4
}
